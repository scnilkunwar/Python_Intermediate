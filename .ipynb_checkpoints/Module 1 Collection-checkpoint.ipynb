{
 "cells": [
  {
   "cell_type": "markdown",
   "id": "f5798103",
   "metadata": {},
   "source": [
    "# Dictionaries\n",
    "**Dictionaries** are another collection type and allow you to map arbitrary **keys** to **values**.\n",
    "Dictionaries can be indexed in the same way as lists, using square brackets containing keys.  \n",
    "Each element in a dictionary is represented by a **key:value** pair."
   ]
  },
  {
   "cell_type": "code",
   "execution_count": 6,
   "id": "31dd9b85",
   "metadata": {},
   "outputs": [
    {
     "name": "stdout",
     "output_type": "stream",
     "text": [
      "100\n"
     ]
    }
   ],
   "source": [
    "price = {\n",
    "    \"book\" : 450,\n",
    "    \"copy\" : 100,\n",
    "    \"pen\" : 50\n",
    "}\n",
    "\n",
    "print(price['copy'])"
   ]
  },
  {
   "cell_type": "markdown",
   "id": "22dd5d46",
   "metadata": {},
   "source": [
    "**Dictionary** is **mutable**  \n",
    "Mutable means the objects that can be changed. Like **List, Dictionary**   \n",
    "Immutable means the object that cant be changed. Like **string, set**  \n",
    "Only immutable objects can be used as keys to dictionaries."
   ]
  },
  {
   "cell_type": "code",
   "execution_count": 8,
   "id": "ecb684de",
   "metadata": {},
   "outputs": [
    {
     "ename": "TypeError",
     "evalue": "unhashable type: 'list'",
     "output_type": "error",
     "traceback": [
      "\u001b[1;31m---------------------------------------------------------------------------\u001b[0m",
      "\u001b[1;31mTypeError\u001b[0m                                 Traceback (most recent call last)",
      "Cell \u001b[1;32mIn [8], line 1\u001b[0m\n\u001b[1;32m----> 1\u001b[0m dct \u001b[38;5;241m=\u001b[39m {\n\u001b[0;32m      2\u001b[0m     [\u001b[38;5;241m1\u001b[39m, \u001b[38;5;241m2\u001b[39m] : \u001b[38;5;124m'\u001b[39m\u001b[38;5;124mlist\u001b[39m\u001b[38;5;124m'\u001b[39m\n\u001b[0;32m      3\u001b[0m }\n",
      "\u001b[1;31mTypeError\u001b[0m: unhashable type: 'list'"
     ]
    }
   ],
   "source": [
    "dct = {\n",
    "    [1, 2] : 'list'\n",
    "}"
   ]
  },
  {
   "cell_type": "markdown",
   "id": "809ea034",
   "metadata": {},
   "source": [
    "# Dictionary Functions\n",
    "\n",
    "## get()\n",
    "A useful dictionary function is get.  \n",
    "It does the same thing as indexing, but if the key is not found in the dictionary it returns another specified value instead."
   ]
  },
  {
   "cell_type": "code",
   "execution_count": 20,
   "id": "53073cc3",
   "metadata": {},
   "outputs": [
    {
     "name": "stdout",
     "output_type": "stream",
     "text": [
      "[1, 2, 3]\n",
      "5\n",
      "True\n"
     ]
    }
   ],
   "source": [
    "dataTypes = {\n",
    "    'list' : [1, 2, 3],\n",
    "    'int' : 5\n",
    "}\n",
    "print(dataTypes.get('list'))\n",
    "print(dataTypes.get('int', 55))\n",
    "print(dataTypes.get('bool', True))"
   ]
  },
  {
   "cell_type": "code",
   "execution_count": 15,
   "id": "22c3d0c1",
   "metadata": {},
   "outputs": [
    {
     "data": {
      "text/plain": [
       "{'list': [1, 2, 3], 'int': 5}"
      ]
     },
     "execution_count": 15,
     "metadata": {},
     "output_type": "execute_result"
    }
   ],
   "source": [
    "dataTypes"
   ]
  },
  {
   "cell_type": "code",
   "execution_count": 17,
   "id": "a3bc2d87",
   "metadata": {},
   "outputs": [
    {
     "name": "stdout",
     "output_type": "stream",
     "text": [
      "2\n"
     ]
    }
   ],
   "source": [
    "print(len(dataTypes))"
   ]
  },
  {
   "cell_type": "code",
   "execution_count": 18,
   "id": "f7223491",
   "metadata": {},
   "outputs": [
    {
     "data": {
      "text/plain": [
       "True"
      ]
     },
     "execution_count": 18,
     "metadata": {},
     "output_type": "execute_result"
    }
   ],
   "source": [
    "\"list\" in dataTypes"
   ]
  },
  {
   "cell_type": "code",
   "execution_count": 22,
   "id": "9f314f0e",
   "metadata": {},
   "outputs": [
    {
     "name": "stdout",
     "output_type": "stream",
     "text": [
      "8\n"
     ]
    }
   ],
   "source": [
    "fib = {\n",
    "    1: 1,\n",
    "    2: 1,\n",
    "    3: 2,\n",
    "    4: 3\n",
    "}\n",
    "\n",
    "print(fib.get(4, 0) + fib.get(7, 5))"
   ]
  },
  {
   "cell_type": "markdown",
   "id": "a96f2c27",
   "metadata": {},
   "source": [
    "# Tuples\n",
    "**Tuples** are very similar to lists, except that they are **immutable** (they cannot be changed).  \n",
    "Also, they are created using **parentheses**, rather than square brackets."
   ]
  },
  {
   "cell_type": "code",
   "execution_count": 24,
   "id": "4f27f951",
   "metadata": {},
   "outputs": [
    {
     "data": {
      "text/plain": [
       "(1, 2, [1, 3, 5])"
      ]
     },
     "execution_count": 24,
     "metadata": {},
     "output_type": "execute_result"
    }
   ],
   "source": [
    "tpls = (1, 2, [1, 3, 5])\n",
    "tpls"
   ]
  },
  {
   "cell_type": "markdown",
   "id": "cf513583",
   "metadata": {},
   "source": [
    "Tuples can be created without the parentheses by just separating the values with commas."
   ]
  },
  {
   "cell_type": "code",
   "execution_count": 25,
   "id": "32146056",
   "metadata": {},
   "outputs": [
    {
     "data": {
      "text/plain": [
       "('name', 'age', 7, {'time': 1, 'dist': 2})"
      ]
     },
     "execution_count": 25,
     "metadata": {},
     "output_type": "execute_result"
    }
   ],
   "source": [
    "my_tpls = 'name', 'age', 7, {'time' : 1, 'dist' : 2}\n",
    "my_tpls"
   ]
  },
  {
   "cell_type": "code",
   "execution_count": 33,
   "id": "0487bb48",
   "metadata": {},
   "outputs": [
    {
     "name": "stdout",
     "output_type": "stream",
     "text": [
      "Bob\n",
      "Bob is 18\n"
     ]
    }
   ],
   "source": [
    "contacts = [\n",
    "    ('James', 42),\n",
    "    ('Amy', 24),\n",
    "    ('John', 31),\n",
    "    ('Amanda', 63),\n",
    "    ('Bob', 18)\n",
    "]\n",
    "contactDict = dict(contacts)\n",
    "name = input()\n",
    "\n",
    "if name in contactDict:\n",
    "    print('{} is {}'.format(name, contactDict[name]))\n",
    "else:\n",
    "    print('Not Found')"
   ]
  },
  {
   "cell_type": "markdown",
   "id": "eaa68dae",
   "metadata": {},
   "source": [
    "### Tuple unpacking"
   ]
  },
  {
   "cell_type": "code",
   "execution_count": 36,
   "id": "b9f680de",
   "metadata": {},
   "outputs": [
    {
     "name": "stdout",
     "output_type": "stream",
     "text": [
      "8 7\n",
      "7 8\n"
     ]
    }
   ],
   "source": [
    "#  swapping\n",
    "\n",
    "a = 8\n",
    "b = 7\n",
    "print(a , b)\n",
    "a, b = b , a\n",
    "print(a , b)"
   ]
  },
  {
   "cell_type": "code",
   "execution_count": 38,
   "id": "e991b6c8",
   "metadata": {},
   "outputs": [
    {
     "name": "stdout",
     "output_type": "stream",
     "text": [
      "1 2 nname\n"
     ]
    }
   ],
   "source": [
    "tpls = 1, 2, \"nname\"\n",
    "x, y, z = tpls\n",
    "print(x, y, z)"
   ]
  },
  {
   "cell_type": "code",
   "execution_count": 40,
   "id": "6d67d781",
   "metadata": {},
   "outputs": [
    {
     "name": "stdout",
     "output_type": "stream",
     "text": [
      "1\n"
     ]
    }
   ],
   "source": [
    "x, y = [1, 2]\n",
    "x, y = y, x\n",
    "print(y)"
   ]
  },
  {
   "cell_type": "code",
   "execution_count": 42,
   "id": "4c1c204d",
   "metadata": {},
   "outputs": [
    {
     "name": "stdout",
     "output_type": "stream",
     "text": [
      "1\n",
      "2\n",
      "[3, 4, 5, 6, 7]\n",
      "8\n",
      "9\n"
     ]
    }
   ],
   "source": [
    "a, b, *c, d, e= [1, 2, 3, 4, 5, 6, 7, 8, 9]  # c takes 3 to 7\n",
    "print(a)\n",
    "print(b)\n",
    "print(c)\n",
    "print(d)\n",
    "print(e)"
   ]
  },
  {
   "cell_type": "code",
   "execution_count": 44,
   "id": "cbcea30f",
   "metadata": {},
   "outputs": [
    {
     "name": "stdout",
     "output_type": "stream",
     "text": [
      "5\n",
      "Perimeter: 20\n",
      "Area: 25\n"
     ]
    }
   ],
   "source": [
    "def calc(x):\n",
    "    p = 4 * x\n",
    "    a = x ** 2\n",
    "    return p, a  #returning tuple from function\n",
    "    \n",
    "\n",
    "side = int(input())\n",
    "p, a = calc(side)\n",
    "\n",
    "print(\"Perimeter: \" + str(p))\n",
    "print(\"Area: \" + str(a))"
   ]
  },
  {
   "cell_type": "code",
   "execution_count": 45,
   "id": "3490b197",
   "metadata": {},
   "outputs": [
    {
     "name": "stdout",
     "output_type": "stream",
     "text": [
      "14\n"
     ]
    }
   ],
   "source": [
    "a, b, c, d, *e, f, g = range(20)\n",
    "print(len(e))"
   ]
  },
  {
   "cell_type": "markdown",
   "id": "a5cf16b7",
   "metadata": {},
   "source": [
    "# Sets\n",
    "Sets are similar to lists or dictionaries.\n",
    "They are created using curly braces, and are unordered, which means that they can't be indexed.\n",
    "\n",
    "Due to the way they're stored, it's faster to check whether an item is part of a set using the in operator, rather than part of a list."
   ]
  },
  {
   "cell_type": "code",
   "execution_count": 48,
   "id": "84e359eb",
   "metadata": {},
   "outputs": [
    {
     "data": {
      "text/plain": [
       "{1, 2, 'hello'}"
      ]
     },
     "execution_count": 48,
     "metadata": {},
     "output_type": "execute_result"
    }
   ],
   "source": [
    "A = {1, 2, 'hello'}\n",
    "A"
   ]
  },
  {
   "cell_type": "code",
   "execution_count": 49,
   "id": "1d32a396",
   "metadata": {},
   "outputs": [
    {
     "data": {
      "text/plain": [
       "True"
      ]
     },
     "execution_count": 49,
     "metadata": {},
     "output_type": "execute_result"
    }
   ],
   "source": [
    "1 in A"
   ]
  },
  {
   "cell_type": "code",
   "execution_count": 50,
   "id": "ebbf3c5f",
   "metadata": {},
   "outputs": [
    {
     "data": {
      "text/plain": [
       "False"
      ]
     },
     "execution_count": 50,
     "metadata": {},
     "output_type": "execute_result"
    }
   ],
   "source": [
    "3 in A"
   ]
  },
  {
   "cell_type": "markdown",
   "id": "7ad56c1f",
   "metadata": {},
   "source": [
    "Sets cannot contain duplicate elements."
   ]
  },
  {
   "cell_type": "code",
   "execution_count": 51,
   "id": "4abb2bcc",
   "metadata": {},
   "outputs": [
    {
     "data": {
      "text/plain": [
       "{2, 4, 6, 8}"
      ]
     },
     "execution_count": 51,
     "metadata": {},
     "output_type": "execute_result"
    }
   ],
   "source": [
    "B = {2, 2, 4, 6, 8, 8}\n",
    "B"
   ]
  },
  {
   "cell_type": "code",
   "execution_count": 52,
   "id": "ed6eaf8c",
   "metadata": {},
   "outputs": [
    {
     "name": "stdout",
     "output_type": "stream",
     "text": [
      "1\n"
     ]
    }
   ],
   "source": [
    "letters = {\"a\", \"b\", \"c\", \"d\"}\n",
    "\n",
    "if \"e\" not in letters:\n",
    "  print(1)\n",
    "else: \n",
    "  print(2)"
   ]
  },
  {
   "cell_type": "code",
   "execution_count": 54,
   "id": "e40683eb",
   "metadata": {},
   "outputs": [
    {
     "name": "stdout",
     "output_type": "stream",
     "text": [
      "6\n",
      "{1, 2, 3, 4, 5, 6}\n",
      "{1, 2, 3, 4, 5, 6, -7}\n",
      "{1, 2, 4, 5, 6, -7}\n"
     ]
    }
   ],
   "source": [
    "nums = {1, 2, 1, 3, 1, 4, 5, 6}\n",
    "print(len(nums))\n",
    "print(nums)\n",
    "nums.add(-7)\n",
    "print(nums)\n",
    "nums.remove(3)\n",
    "print(nums)"
   ]
  },
  {
   "cell_type": "markdown",
   "id": "c9ca583d",
   "metadata": {},
   "source": [
    "Sets can be combined using mathematical operations.   \n",
    "The **union** operator **|** combines two sets to form a new one containing items in either.  \n",
    "The **intersection** operator **&** gets items only in both.  \n",
    "The **difference** operator **-** gets items in the first set but not in the second.  \n",
    "The **symmetric difference** operator **^** gets items in either set, but not both."
   ]
  },
  {
   "cell_type": "code",
   "execution_count": 61,
   "id": "c27acb5c",
   "metadata": {},
   "outputs": [
    {
     "name": "stdout",
     "output_type": "stream",
     "text": [
      "A =  {1, 2, 3, 4, 5}\n",
      "B =  {3, 4, 5, 6, 7}\n",
      "A u B =  {1, 2, 3, 4, 5, 6, 7}\n",
      "A n B =  {3, 4, 5}\n",
      "A - B =  {1, 2}\n",
      "B - A =  {6, 7}\n",
      "A Δ B =  {1, 2, 6, 7}\n"
     ]
    }
   ],
   "source": [
    "A = {1, 2, 3, 4, 5}\n",
    "B = {3, 4, 5, 6, 7}\n",
    "\n",
    "print('A = ', A)\n",
    "print('B = ', B)\n",
    "print('A u B = ', A | B)\n",
    "print('A n B = ', A & B)\n",
    "print('A - B = ', A - B)\n",
    "print('B - A = ', B - A)\n",
    "print('A Δ B = ', A ^ B)"
   ]
  },
  {
   "cell_type": "code",
   "execution_count": 64,
   "id": "2eeb6b95",
   "metadata": {},
   "outputs": [
    {
     "name": "stdout",
     "output_type": "stream",
     "text": [
      "{'HTML'}\n"
     ]
    }
   ],
   "source": [
    "skills = {'Python', 'HTML', 'SQL', 'C++', 'Java', 'Scala'}\n",
    "job_skills = {'HTML', 'CSS', 'JS', 'C#', 'NodeJS'}\n",
    "print(skills & job_skills)"
   ]
  },
  {
   "cell_type": "code",
   "execution_count": 65,
   "id": "e7de1a91",
   "metadata": {},
   "outputs": [
    {
     "name": "stdout",
     "output_type": "stream",
     "text": [
      "{3}\n"
     ]
    }
   ],
   "source": [
    "a = {1, 2, 3}\n",
    "b = {0, 3, 4, 5}\n",
    "print(a & b)"
   ]
  },
  {
   "cell_type": "markdown",
   "id": "161887e7",
   "metadata": {},
   "source": [
    "# List Comprehensions\n",
    "List comprehensions are a useful way of quickly creating lists whose contents obey a rule."
   ]
  },
  {
   "cell_type": "code",
   "execution_count": 66,
   "id": "3aa48418",
   "metadata": {},
   "outputs": [
    {
     "name": "stdout",
     "output_type": "stream",
     "text": [
      "[0, 1, 2, 3, 4, 5, 6, 7, 8, 9]\n"
     ]
    }
   ],
   "source": [
    "lst = [x for x in range(10)]\n",
    "print(lst)"
   ]
  },
  {
   "cell_type": "code",
   "execution_count": 68,
   "id": "7d4ab1e9",
   "metadata": {},
   "outputs": [
    {
     "data": {
      "text/plain": [
       "[0, 2, 4, 6, 8, 10, 12, 14, 16, 18]"
      ]
     },
     "execution_count": 68,
     "metadata": {},
     "output_type": "execute_result"
    }
   ],
   "source": [
    "nums = [i*2 for i in range(10)]\n",
    "nums"
   ]
  },
  {
   "cell_type": "markdown",
   "id": "743c30a2",
   "metadata": {},
   "source": [
    "A list comprehension can also contain an if statement to enforce a condition on values in the list."
   ]
  },
  {
   "cell_type": "code",
   "execution_count": 69,
   "id": "ce505113",
   "metadata": {},
   "outputs": [
    {
     "data": {
      "text/plain": [
       "[1, 3, 5, 7, 9, 11, 13, 15, 17, 19]"
      ]
     },
     "execution_count": 69,
     "metadata": {},
     "output_type": "execute_result"
    }
   ],
   "source": [
    "oddNums = [x for x in range(20) if x % 2 == 1]\n",
    "oddNums"
   ]
  },
  {
   "cell_type": "code",
   "execution_count": 72,
   "id": "25fce507",
   "metadata": {},
   "outputs": [
    {
     "data": {
      "text/plain": [
       "['h', 'l', 'l']"
      ]
     },
     "execution_count": 72,
     "metadata": {},
     "output_type": "execute_result"
    }
   ],
   "source": [
    "word = \"hello\"\n",
    "vowel = 'aeiou'\n",
    "text = [x for x in word if x not in vowel]\n",
    "text"
   ]
  },
  {
   "cell_type": "markdown",
   "id": "a2e62a44",
   "metadata": {},
   "source": [
    "# Data Structures\n",
    "\n",
    "\n",
    "As we have seen in the previous lessons, Python supports the following collection types: Lists, Dictionaries, Tuples, Sets.\n",
    "\n",
    "When to use a **dictionary**:\n",
    "- When you need a logical association between a key:value pair.\n",
    "- When you need fast lookup for your data, based on a custom key.\n",
    "- When your data is being constantly modified. Remember, dictionaries are mutable.\n",
    "\n",
    "When to use the other types:\n",
    "- Use **lists** if you have a collection of data that does not need random access. Try to choose lists when you need a simple, iterable collection that is modified frequently.\n",
    "- Use a **set** if you need uniqueness for the elements.\n",
    "- Use **tuples** when your data cannot/should not change."
   ]
  },
  {
   "cell_type": "code",
   "execution_count": 73,
   "id": "3b042dda",
   "metadata": {},
   "outputs": [
    {
     "name": "stdout",
     "output_type": "stream",
     "text": [
      "44\n"
     ]
    }
   ],
   "source": [
    "# some code\n",
    "nums = (55, 44, 33, 22)\n",
    "print(max(min(nums[:2]), abs(-42)))"
   ]
  },
  {
   "cell_type": "code",
   "execution_count": 74,
   "id": "2f73e507",
   "metadata": {},
   "outputs": [
    {
     "data": {
      "text/plain": [
       "(1, 2, 'nname')"
      ]
     },
     "execution_count": 74,
     "metadata": {},
     "output_type": "execute_result"
    }
   ],
   "source": [
    "tpls"
   ]
  },
  {
   "cell_type": "code",
   "execution_count": 75,
   "id": "111202a9",
   "metadata": {},
   "outputs": [
    {
     "data": {
      "text/plain": [
       "(1,)"
      ]
     },
     "execution_count": 75,
     "metadata": {},
     "output_type": "execute_result"
    }
   ],
   "source": [
    "tpls[:1]"
   ]
  },
  {
   "cell_type": "markdown",
   "id": "dee9e842",
   "metadata": {},
   "source": [
    "# Problem\n",
    "\n",
    "##Letter Counter\n",
    "\n",
    "Given a string as input, you need to output how many times each letter appears in the string.\n",
    "You decide to store the data in a dictionary, with the letters as the keys, and the corresponding counts as the values.\n",
    "Create a program to take a string as input and output a dictionary, which represents the letter count.\n",
    "\n",
    "**Sample Input**  \n",
    "hello\n",
    "\n",
    "**Sample Output**  \n",
    "{'h': 1, 'e': 1, 'l': 2, 'o': 1}"
   ]
  },
  {
   "cell_type": "markdown",
   "id": "4f351356",
   "metadata": {},
   "source": [
    "# Solution"
   ]
  },
  {
   "cell_type": "code",
   "execution_count": 76,
   "id": "efc042b2",
   "metadata": {},
   "outputs": [
    {
     "name": "stdout",
     "output_type": "stream",
     "text": [
      "hello\n",
      "{'h': 1, 'e': 1, 'l': 2, 'o': 1}\n"
     ]
    }
   ],
   "source": [
    "text = input()\n",
    "dict = {}\n",
    "\n",
    "for letter in text:\n",
    "    if letter not in dict:\n",
    "        dict[letter] = text.count(letter)\n",
    "\n",
    "print(dict)"
   ]
  },
  {
   "cell_type": "code",
   "execution_count": null,
   "id": "ab6755e3",
   "metadata": {},
   "outputs": [],
   "source": []
  }
 ],
 "metadata": {
  "kernelspec": {
   "display_name": "Python 3 (ipykernel)",
   "language": "python",
   "name": "python3"
  },
  "language_info": {
   "codemirror_mode": {
    "name": "ipython",
    "version": 3
   },
   "file_extension": ".py",
   "mimetype": "text/x-python",
   "name": "python",
   "nbconvert_exporter": "python",
   "pygments_lexer": "ipython3",
   "version": "3.10.7"
  }
 },
 "nbformat": 4,
 "nbformat_minor": 5
}
