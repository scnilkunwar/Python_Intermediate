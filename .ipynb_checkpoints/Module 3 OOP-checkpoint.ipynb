{
 "cells": [
  {
   "cell_type": "markdown",
   "id": "617de49d",
   "metadata": {},
   "source": [
    "# Class\n",
    "The focal point of Object Oriented Programming (OOP) are objects, which are created using classes.\n",
    "The class describes what the object will be, but is separate from the object itself. In other words, a class can be described as an object's blueprint, description, or definition.\n",
    "You can use the same class as a blueprint for creating multiple different objects.\n",
    "\n",
    "Classes are created using the keyword class and an indented block, which contains class methods (which are functions).\n",
    "Below is an example of a simple class and its objects."
   ]
  },
  {
   "cell_type": "code",
   "execution_count": 2,
   "id": "6e7afb26",
   "metadata": {},
   "outputs": [
    {
     "name": "stdout",
     "output_type": "stream",
     "text": [
      "4\n"
     ]
    }
   ],
   "source": [
    "class animal:\n",
    "    def __init__(self, legs, sound):\n",
    "        self.legs = legs\n",
    "        self.sound = sound\n",
    "        \n",
    "dog = animal(4, \"bark\")\n",
    "cat = animal(4, \"mew\")\n",
    "hen = animal(2, \"chiw\")\n",
    "\n",
    "print(dog.legs)"
   ]
  },
  {
   "cell_type": "markdown",
   "id": "627f3093",
   "metadata": {},
   "source": [
    "In the example above, the **__init__** method takes two arguments and assigns them to the object's attributes. The  **__init__** method is called the class constructor."
   ]
  },
  {
   "cell_type": "code",
   "execution_count": 8,
   "id": "a30e2266",
   "metadata": {},
   "outputs": [
    {
     "name": "stdout",
     "output_type": "stream",
     "text": [
      "8\n"
     ]
    }
   ],
   "source": [
    "class Math:\n",
    "    def __init__(self, a, b):\n",
    "        self.a = a\n",
    "        self.b = b\n",
    "    def add(self):\n",
    "        return self.a + self.b\n",
    "    \n",
    "    def mult(self, a, b):\n",
    "        return a * b\n",
    "    \n",
    "num = Math(3, 5)\n",
    "print(num.add())"
   ]
  },
  {
   "cell_type": "code",
   "execution_count": null,
   "id": "36124d75",
   "metadata": {},
   "outputs": [],
   "source": []
  }
 ],
 "metadata": {
  "kernelspec": {
   "display_name": "Python 3 (ipykernel)",
   "language": "python",
   "name": "python3"
  },
  "language_info": {
   "codemirror_mode": {
    "name": "ipython",
    "version": 3
   },
   "file_extension": ".py",
   "mimetype": "text/x-python",
   "name": "python",
   "nbconvert_exporter": "python",
   "pygments_lexer": "ipython3",
   "version": "3.10.7"
  }
 },
 "nbformat": 4,
 "nbformat_minor": 5
}
