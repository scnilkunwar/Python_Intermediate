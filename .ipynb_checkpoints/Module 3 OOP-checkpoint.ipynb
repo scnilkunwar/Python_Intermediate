{
 "cells": [
  {
   "cell_type": "markdown",
   "id": "63a09a42",
   "metadata": {},
   "source": [
    "# Class\n",
    "The focal point of Object Oriented Programming (OOP) are objects, which are created using classes.\n",
    "The class describes what the object will be, but is separate from the object itself. In other words, a class can be described as an object's blueprint, description, or definition.\n",
    "You can use the same class as a blueprint for creating multiple different objects.\n",
    "\n",
    "Classes are created using the keyword class and an indented block, which contains class methods (which are functions).\n",
    "Below is an example of a simple class and its objects."
   ]
  },
  {
   "cell_type": "code",
   "execution_count": 2,
   "id": "2c686ee1",
   "metadata": {},
   "outputs": [
    {
     "name": "stdout",
     "output_type": "stream",
     "text": [
      "4\n"
     ]
    }
   ],
   "source": [
    "class animal:\n",
    "    def __init__(self, legs, sound):\n",
    "        self.legs = legs\n",
    "        self.sound = sound\n",
    "        \n",
    "dog = animal(4, \"bark\")\n",
    "cat = animal(4, \"mew\")\n",
    "hen = animal(2, \"chiw\")\n",
    "\n",
    "print(dog.legs)"
   ]
  },
  {
   "cell_type": "markdown",
   "id": "8eb45799",
   "metadata": {},
   "source": [
    "In the example above, the ```__init__``` method takes two arguments and assigns them to the object's attributes. The  ```__init__``` method is called the class constructor."
   ]
  },
  {
   "cell_type": "code",
   "execution_count": 34,
   "id": "ebf78736",
   "metadata": {},
   "outputs": [
    {
     "name": "stdout",
     "output_type": "stream",
     "text": [
      "8\n",
      "15\n"
     ]
    }
   ],
   "source": [
    "class Math:\n",
    "    def __init__(self, a, b):\n",
    "        self.a = a\n",
    "        self.b = b\n",
    "    def add(self):\n",
    "        return self.a + self.b\n",
    "    \n",
    "    def mult(self):\n",
    "        return self.a * self.b\n",
    "    \n",
    "num = Math(3, 5)\n",
    "print(num.add())\n",
    "print(num.mult())"
   ]
  },
  {
   "cell_type": "markdown",
   "id": "02916348",
   "metadata": {},
   "source": [
    "You are making a video game! The given code declares a Player class, with its attributes and an intro() method.\n",
    "Complete the code to take the name and level from user input, create a Player object with the corresponding values and call the intro() method of that object.\n",
    "\n",
    "**Sample Input**  \n",
    "Tony  \n",
    "12\n",
    "\n",
    "**Sample Output**  \n",
    "Tony (Level 12)"
   ]
  },
  {
   "cell_type": "code",
   "execution_count": 36,
   "id": "26cb60fb",
   "metadata": {},
   "outputs": [
    {
     "name": "stdout",
     "output_type": "stream",
     "text": [
      "sunil\n",
      "8\n",
      "sunil (Level 8)\n"
     ]
    }
   ],
   "source": [
    "class Player:\n",
    "    def __init__(self, name, level):\n",
    "        self.name = name\n",
    "        self.level = level\n",
    "\n",
    "    def intro(self):\n",
    "        print(self.name + \" (Level \" + self.level + \")\")\n",
    "        \n",
    "name = input()\n",
    "level = input()\n",
    "player1 = Player(name, level)\n",
    "player1.intro()"
   ]
  },
  {
   "cell_type": "markdown",
   "id": "0b693b37",
   "metadata": {},
   "source": [
    "# inheritance\n",
    "Inheritance provides a way to share functionality between classes.\n",
    "Imagine several classes, Cat, Dog, Rabbit and so on. Although they may differ in some ways (only Dog might have the method bark), they are likely to be similar in others (all having the attributes color and name).\n",
    "This similarity can be expressed by making them all inherit from a superclass Animal, which contains the shared functionality.\n",
    "To inherit a class from another class, put the superclass name in parentheses after the class name."
   ]
  },
  {
   "cell_type": "code",
   "execution_count": 37,
   "id": "59285255",
   "metadata": {},
   "outputs": [
    {
     "name": "stdout",
     "output_type": "stream",
     "text": [
      "Red\n",
      "Purr...!\n"
     ]
    }
   ],
   "source": [
    "class Animal:\n",
    "    def __init__(self, name, color):\n",
    "        self.name = name\n",
    "        self.color = color\n",
    "class Cat(Animal):\n",
    "    def purr(self):\n",
    "        print('Purr...!')\n",
    "class Dog(Animal):\n",
    "    def bark(self):\n",
    "        print('Bark...!')\n",
    "        \n",
    "dolfe = Dog('Dolfe', 'Red')\n",
    "suri = Cat('Suri', 'Black')\n",
    "print(dolfe.color)\n",
    "suri.purr()"
   ]
  },
  {
   "cell_type": "markdown",
   "id": "6d5b8fa9",
   "metadata": {},
   "source": [
    "A class that inherits from another class is called a subclass.  \n",
    "A class that is inherited from is called a superclass.  \n",
    "If a class inherits from another with the same attributes or methods, it overrides them."
   ]
  },
  {
   "cell_type": "code",
   "execution_count": 23,
   "id": "0b9aef89",
   "metadata": {},
   "outputs": [
    {
     "name": "stdout",
     "output_type": "stream",
     "text": [
      "Grr...\n",
      "Woof\n"
     ]
    }
   ],
   "source": [
    "class Wolf: \n",
    "    def __init__(self, name, color):\n",
    "        self.name = name\n",
    "        self.color = color\n",
    "\n",
    "    def bark(self):\n",
    "        print(\"Grr...\")\n",
    "\n",
    "class Dog(Wolf):\n",
    "    def bark(self):\n",
    "        print(\"Woof\")\n",
    "\n",
    "beli = Wolf('Beli', 'Brown')\n",
    "beli.bark()\n",
    "\n",
    "husky = Dog(\"Max\", \"grey\")\n",
    "husky.bark()"
   ]
  },
  {
   "cell_type": "code",
   "execution_count": 25,
   "id": "0696e305",
   "metadata": {},
   "outputs": [
    {
     "name": "stdout",
     "output_type": "stream",
     "text": [
      "2\n",
      "1\n"
     ]
    }
   ],
   "source": [
    "class A:\n",
    "  def method(self):\n",
    "    print(1)\n",
    "\n",
    "class B(A):\n",
    "  def method(self):\n",
    "    print(2)\n",
    "\n",
    "B().method()\n",
    "A().method()"
   ]
  },
  {
   "cell_type": "markdown",
   "id": "60e8e4c0",
   "metadata": {},
   "source": [
    "## super()"
   ]
  },
  {
   "cell_type": "code",
   "execution_count": 26,
   "id": "12a1699c",
   "metadata": {},
   "outputs": [
    {
     "name": "stdout",
     "output_type": "stream",
     "text": [
      "2\n",
      "1\n"
     ]
    }
   ],
   "source": [
    "class A:\n",
    "    def spam(self):\n",
    "        print(1)\n",
    "\n",
    "class B(A):\n",
    "    def spam(self):\n",
    "        print(2)\n",
    "        super().spam()\n",
    "\n",
    "B().spam()"
   ]
  },
  {
   "cell_type": "markdown",
   "id": "650d8669",
   "metadata": {},
   "source": [
    "You are making a drawing application, which has a Shape base class.\n",
    "The given code defines a Rectangle class, creates a Rectangle object and calls its area() and perimeter() methods.\n",
    "\n",
    "Do the following to complete the program:\n",
    "1. Inherit the Rectangle class from Shape.\n",
    "2. Define the perimeter() method in the Rectangle class, printing the perimeter of the rectangle."
   ]
  },
  {
   "cell_type": "code",
   "execution_count": 28,
   "id": "4c49d880",
   "metadata": {},
   "outputs": [
    {
     "name": "stdout",
     "output_type": "stream",
     "text": [
      "4\n",
      "5\n",
      "20\n",
      "18\n"
     ]
    }
   ],
   "source": [
    "class Shape: \n",
    "    def __init__(self, w, h):\n",
    "        self.width = w\n",
    "        self.height = h\n",
    "\n",
    "    def area(self):\n",
    "        print(self.width*self.height)\n",
    "\n",
    "class Rectangle(Shape):\n",
    "    #your code goes here\n",
    "    def perimeter(self):\n",
    "        print(2 * (self.width + self.height))\n",
    "    def area(self):\n",
    "        super().area()\n",
    "\n",
    "w = int(input())\n",
    "h = int(input())\n",
    "\n",
    "r = Rectangle(w, h)\n",
    "r.area()\n",
    "r.perimeter()"
   ]
  },
  {
   "cell_type": "markdown",
   "id": "3dc443c0",
   "metadata": {},
   "source": [
    "# Magic Methods\n",
    "Magic methods are special methods which have double underscores at the beginning and end of their names.\n",
    "They are also known as dunders.\n",
    "So far, the only one we have encountered is ```__init__```, but there are several others.\n",
    "They are used to create functionality that can't be represented as a normal method.\n",
    "\n",
    "One common use of them is operator overloading.\n",
    "This means defining operators for custom classes that allow operators such as + and * to be used on them.\n",
    "An example magic method is ```__add__``` for +."
   ]
  },
  {
   "cell_type": "code",
   "execution_count": 38,
   "id": "7e74e36d",
   "metadata": {},
   "outputs": [
    {
     "name": "stdout",
     "output_type": "stream",
     "text": [
      "8\n",
      "16\n"
     ]
    }
   ],
   "source": [
    "class Vector2D:\n",
    "    def __init__(self, x, y):\n",
    "        self.x = x\n",
    "        self.y = y\n",
    "    def __add__(self, other):\n",
    "        return Vector2D(self.x + other.x, self.y + other.y)\n",
    "\n",
    "first = Vector2D(5, 7)\n",
    "second = Vector2D(3, 9)\n",
    "result = first + second\n",
    "print(result.x)\n",
    "print(result.y)"
   ]
  },
  {
   "cell_type": "code",
   "execution_count": 39,
   "id": "b4523647",
   "metadata": {},
   "outputs": [
    {
     "data": {
      "text/plain": [
       "'\\nMore magic methods for common operators:\\n__sub__ for -\\n__mul__ for *\\n__truediv__ for /\\n__floordiv__ for //\\n__mod__ for %\\n__pow__ for **\\n__and__ for &\\n__xor__ for ^\\n__or__ for |\\n\\n'"
      ]
     },
     "execution_count": 39,
     "metadata": {},
     "output_type": "execute_result"
    }
   ],
   "source": [
    "\"\"\"\n",
    "More magic methods for common operators:\n",
    "__sub__ for -\n",
    "__mul__ for *\n",
    "__truediv__ for /\n",
    "__floordiv__ for //\n",
    "__mod__ for %\n",
    "__pow__ for **\n",
    "__and__ for &\n",
    "__xor__ for ^\n",
    "__or__ for |\n",
    "\n",
    "\"\"\""
   ]
  },
  {
   "cell_type": "code",
   "execution_count": null,
   "id": "5ec35b48",
   "metadata": {},
   "outputs": [],
   "source": []
  },
  {
   "cell_type": "code",
   "execution_count": 9,
   "id": "0280603a",
   "metadata": {},
   "outputs": [
    {
     "name": "stdout",
     "output_type": "stream",
     "text": [
      "AC\n",
      "AH\n",
      "AK\n",
      "CA\n",
      "CH\n",
      "CK\n",
      "HA\n",
      "HC\n",
      "HK\n",
      "KA\n",
      "KC\n",
      "KH\n"
     ]
    }
   ],
   "source": [
    "from itertools import permutations\n",
    "data = 'HACK 2'.split(' ')\n",
    "S = data[0]\n",
    "k = int(data[1])\n",
    "possible = list(permutations(S, k))\n",
    "possible.sort()\n",
    "for i in possible:\n",
    "    str = ''\n",
    "    print(str.join(i))"
   ]
  },
  {
   "cell_type": "code",
   "execution_count": null,
   "id": "3aad4bcc",
   "metadata": {},
   "outputs": [],
   "source": [
    "from itertools import combinations\n",
    "data = input().split(' ')\n",
    "S = data[0]\n",
    "k = int(data[1])\n",
    "for l in range(1, k + 1): \n",
    "    possible = list((combinations(S, l)))\n",
    "    for i in range(len(possible)):\n",
    "        possible[i] = list(possible[i]).sort()\n",
    "    for j in possible:\n",
    "        str = ''\n",
    "        print(str.join(j))"
   ]
  },
  {
   "cell_type": "code",
   "execution_count": 18,
   "id": "afeb7c0a",
   "metadata": {},
   "outputs": [
    {
     "data": {
      "text/plain": [
       "['a', 'b', 'n']"
      ]
     },
     "execution_count": 18,
     "metadata": {},
     "output_type": "execute_result"
    }
   ],
   "source": [
    "tpl = ('a', 'n', 'b')\n",
    "tpl = list(tpl)\n",
    "tpl.sort()\n",
    "tpl"
   ]
  },
  {
   "cell_type": "code",
   "execution_count": null,
   "id": "6e88b868",
   "metadata": {},
   "outputs": [],
   "source": []
  },
  {
   "cell_type": "code",
   "execution_count": null,
   "id": "8eac7d4e",
   "metadata": {},
   "outputs": [],
   "source": []
  },
  {
   "cell_type": "code",
   "execution_count": null,
   "id": "200bba05",
   "metadata": {},
   "outputs": [],
   "source": []
  },
  {
   "cell_type": "code",
   "execution_count": null,
   "id": "b8017a3e",
   "metadata": {},
   "outputs": [],
   "source": []
  }
 ],
 "metadata": {
  "kernelspec": {
   "display_name": "Python 3 (ipykernel)",
   "language": "python",
   "name": "python3"
  },
  "language_info": {
   "codemirror_mode": {
    "name": "ipython",
    "version": 3
   },
   "file_extension": ".py",
   "mimetype": "text/x-python",
   "name": "python",
   "nbconvert_exporter": "python",
   "pygments_lexer": "ipython3",
   "version": "3.10.7"
  }
 },
 "nbformat": 4,
 "nbformat_minor": 5
}
