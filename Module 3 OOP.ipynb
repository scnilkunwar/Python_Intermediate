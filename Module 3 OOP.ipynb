{
 "cells": [
  {
   "cell_type": "markdown",
   "id": "bfca5bad",
   "metadata": {},
   "source": [
    "# Class\n",
    "The focal point of Object Oriented Programming (OOP) are objects, which are created using classes.\n",
    "The class describes what the object will be, but is separate from the object itself. In other words, a class can be described as an object's blueprint, description, or definition.\n",
    "You can use the same class as a blueprint for creating multiple different objects.\n",
    "\n",
    "Classes are created using the keyword class and an indented block, which contains class methods (which are functions).\n",
    "Below is an example of a simple class and its objects."
   ]
  },
  {
   "cell_type": "code",
   "execution_count": 2,
   "id": "76712630",
   "metadata": {},
   "outputs": [
    {
     "name": "stdout",
     "output_type": "stream",
     "text": [
      "4\n"
     ]
    }
   ],
   "source": [
    "class animal:\n",
    "    def __init__(self, legs, sound):\n",
    "        self.legs = legs\n",
    "        self.sound = sound\n",
    "        \n",
    "dog = animal(4, \"bark\")\n",
    "cat = animal(4, \"mew\")\n",
    "hen = animal(2, \"chiw\")\n",
    "\n",
    "print(dog.legs)"
   ]
  },
  {
   "cell_type": "markdown",
   "id": "b0dc02f9",
   "metadata": {},
   "source": [
    "In the example above, the **__init__** method takes two arguments and assigns them to the object's attributes. The  **__init__** method is called the class constructor."
   ]
  },
  {
   "cell_type": "code",
   "execution_count": 11,
   "id": "077777ea",
   "metadata": {},
   "outputs": [
    {
     "name": "stdout",
     "output_type": "stream",
     "text": [
      "8\n",
      "15\n"
     ]
    }
   ],
   "source": [
    "class Math:\n",
    "    def __init__(self, a, b):\n",
    "        self.a = a\n",
    "        self.b = b\n",
    "    def add(self):\n",
    "        return self.a + self.b\n",
    "    \n",
    "    def mult(self):\n",
    "        return self.a * self.b\n",
    "    \n",
    "num = Math(3, 5)\n",
    "print(num.add())\n",
    "print(num.mult())"
   ]
  },
  {
   "cell_type": "markdown",
   "id": "4291fb90",
   "metadata": {},
   "source": [
    "You are making a video game! The given code declares a Player class, with its attributes and an intro() method.\n",
    "Complete the code to take the name and level from user input, create a Player object with the corresponding values and call the intro() method of that object.\n",
    "\n",
    "**Sample Input**  \n",
    "Tony  \n",
    "12\n",
    "\n",
    "**Sample Output**  \n",
    "Tony (Level 12)"
   ]
  },
  {
   "cell_type": "code",
   "execution_count": 15,
   "id": "ba06a50f",
   "metadata": {},
   "outputs": [
    {
     "name": "stdout",
     "output_type": "stream",
     "text": [
      "sunil\n",
      "12\n",
      "sunil (Level 12)\n"
     ]
    }
   ],
   "source": [
    "class Player:\n",
    "    def __init__(self, name, level):\n",
    "        self.name = name\n",
    "        self.level = level\n",
    "\n",
    "    def intro(self):\n",
    "        print(self.name + \" (Level \" + self.level + \")\")\n",
    "        \n",
    "name = input()\n",
    "level = input()\n",
    "player1 = Player(name, level)\n",
    "player1.intro()"
   ]
  },
  {
   "cell_type": "markdown",
   "id": "983270ba",
   "metadata": {},
   "source": [
    "# inheritance\n",
    "Inheritance provides a way to share functionality between classes.\n",
    "Imagine several classes, Cat, Dog, Rabbit and so on. Although they may differ in some ways (only Dog might have the method bark), they are likely to be similar in others (all having the attributes color and name).\n",
    "This similarity can be expressed by making them all inherit from a superclass Animal, which contains the shared functionality.\n",
    "To inherit a class from another class, put the superclass name in parentheses after the class name."
   ]
  },
  {
   "cell_type": "code",
   "execution_count": 18,
   "id": "54b77761",
   "metadata": {},
   "outputs": [
    {
     "name": "stdout",
     "output_type": "stream",
     "text": [
      "Red\n",
      "Purr...!\n"
     ]
    }
   ],
   "source": [
    "class Animal:\n",
    "    def __init__(self, name, color):\n",
    "        self.name = name\n",
    "        self.color = color\n",
    "class Cat(Animal):\n",
    "    def purr(self):\n",
    "        print('Purr...!')\n",
    "class Dog(Animal):\n",
    "    def bark(self):\n",
    "        print('Bark...!')\n",
    "        \n",
    "dolfe = Dog('Dolfe', 'Red')\n",
    "suri = Cat('Suri', 'Black')\n",
    "print(dolfe.color)\n",
    "suri.purr()"
   ]
  },
  {
   "cell_type": "markdown",
   "id": "77b67927",
   "metadata": {},
   "source": [
    "A class that inherits from another class is called a subclass.  \n",
    "A class that is inherited from is called a superclass.  \n",
    "If a class inherits from another with the same attributes or methods, it overrides them."
   ]
  },
  {
   "cell_type": "code",
   "execution_count": 23,
   "id": "6d7222c4",
   "metadata": {},
   "outputs": [
    {
     "name": "stdout",
     "output_type": "stream",
     "text": [
      "Grr...\n",
      "Woof\n"
     ]
    }
   ],
   "source": [
    "class Wolf: \n",
    "    def __init__(self, name, color):\n",
    "        self.name = name\n",
    "        self.color = color\n",
    "\n",
    "    def bark(self):\n",
    "        print(\"Grr...\")\n",
    "\n",
    "class Dog(Wolf):\n",
    "    def bark(self):\n",
    "        print(\"Woof\")\n",
    "\n",
    "beli = Wolf('Beli', 'Brown')\n",
    "beli.bark()\n",
    "\n",
    "husky = Dog(\"Max\", \"grey\")\n",
    "husky.bark()"
   ]
  },
  {
   "cell_type": "code",
   "execution_count": 25,
   "id": "0c4a6209",
   "metadata": {},
   "outputs": [
    {
     "name": "stdout",
     "output_type": "stream",
     "text": [
      "2\n",
      "1\n"
     ]
    }
   ],
   "source": [
    "class A:\n",
    "  def method(self):\n",
    "    print(1)\n",
    "\n",
    "class B(A):\n",
    "  def method(self):\n",
    "    print(2)\n",
    "\n",
    "B().method()\n",
    "A().method()"
   ]
  },
  {
   "cell_type": "markdown",
   "id": "751ad005",
   "metadata": {},
   "source": [
    "## super()"
   ]
  },
  {
   "cell_type": "code",
   "execution_count": 26,
   "id": "f91bedc4",
   "metadata": {},
   "outputs": [
    {
     "name": "stdout",
     "output_type": "stream",
     "text": [
      "2\n",
      "1\n"
     ]
    }
   ],
   "source": [
    "class A:\n",
    "    def spam(self):\n",
    "        print(1)\n",
    "\n",
    "class B(A):\n",
    "    def spam(self):\n",
    "        print(2)\n",
    "        super().spam()\n",
    "\n",
    "B().spam()"
   ]
  },
  {
   "cell_type": "markdown",
   "id": "550d99d4",
   "metadata": {},
   "source": [
    "You are making a drawing application, which has a Shape base class.\n",
    "The given code defines a Rectangle class, creates a Rectangle object and calls its area() and perimeter() methods.\n",
    "\n",
    "Do the following to complete the program:\n",
    "1. Inherit the Rectangle class from Shape.\n",
    "2. Define the perimeter() method in the Rectangle class, printing the perimeter of the rectangle."
   ]
  },
  {
   "cell_type": "code",
   "execution_count": 28,
   "id": "4c763e21",
   "metadata": {},
   "outputs": [
    {
     "name": "stdout",
     "output_type": "stream",
     "text": [
      "4\n",
      "5\n",
      "20\n",
      "18\n"
     ]
    }
   ],
   "source": [
    "class Shape: \n",
    "    def __init__(self, w, h):\n",
    "        self.width = w\n",
    "        self.height = h\n",
    "\n",
    "    def area(self):\n",
    "        print(self.width*self.height)\n",
    "\n",
    "class Rectangle(Shape):\n",
    "    #your code goes here\n",
    "    def perimeter(self):\n",
    "        print(2 * (self.width + self.height))\n",
    "    def area(self):\n",
    "        super().area()\n",
    "\n",
    "w = int(input())\n",
    "h = int(input())\n",
    "\n",
    "r = Rectangle(w, h)\n",
    "r.area()\n",
    "r.perimeter()"
   ]
  },
  {
   "cell_type": "code",
   "execution_count": 33,
   "id": "5d9fc739",
   "metadata": {},
   "outputs": [
    {
     "ename": "AttributeError",
     "evalue": "'MinMax' object has no attribute 'temp_lst'",
     "output_type": "error",
     "traceback": [
      "\u001b[1;31m---------------------------------------------------------------------------\u001b[0m",
      "\u001b[1;31mAttributeError\u001b[0m                            Traceback (most recent call last)",
      "Cell \u001b[1;32mIn [33], line 14\u001b[0m\n\u001b[0;32m     11\u001b[0m         \u001b[38;5;28;01mreturn\u001b[39;00m mn\n\u001b[0;32m     13\u001b[0m lst \u001b[38;5;241m=\u001b[39m MinMax(\u001b[38;5;241m1\u001b[39m, \u001b[38;5;241m2\u001b[39m, \u001b[38;5;241m3\u001b[39m, \u001b[38;5;241m4\u001b[39m)\n\u001b[1;32m---> 14\u001b[0m \u001b[38;5;28mprint\u001b[39m(lst\u001b[38;5;241m.\u001b[39mmin())\n",
      "Cell \u001b[1;32mIn [33], line 6\u001b[0m, in \u001b[0;36mMinMax.min\u001b[1;34m(self)\u001b[0m\n\u001b[0;32m      5\u001b[0m \u001b[38;5;28;01mdef\u001b[39;00m \u001b[38;5;21mmin\u001b[39m(\u001b[38;5;28mself\u001b[39m):\n\u001b[1;32m----> 6\u001b[0m     temp_lst \u001b[38;5;241m=\u001b[39m \u001b[38;5;28;43mself\u001b[39;49m\u001b[38;5;241;43m.\u001b[39;49m\u001b[43mtemp_lst\u001b[49m\n\u001b[0;32m      7\u001b[0m     mn \u001b[38;5;241m=\u001b[39m temp_lst[\u001b[38;5;241m0\u001b[39m]\n\u001b[0;32m      8\u001b[0m     \u001b[38;5;28;01mfor\u001b[39;00m i \u001b[38;5;129;01min\u001b[39;00m temp_lst:\n",
      "\u001b[1;31mAttributeError\u001b[0m: 'MinMax' object has no attribute 'temp_lst'"
     ]
    }
   ],
   "source": [
    "class MinMax:\n",
    "    def __init__(self, *args):\n",
    "        selftemp_lst = list(args)\n",
    "        \n",
    "    def min(self):\n",
    "        temp_lst = self.temp_lst\n",
    "        mn = temp_lst[0]\n",
    "        for i in temp_lst:\n",
    "            if i < mn:\n",
    "                mn = i\n",
    "        return mn\n",
    "        \n",
    "lst = MinMax(1, 2, 3, 4)\n",
    "print(lst.min())"
   ]
  },
  {
   "cell_type": "code",
   "execution_count": null,
   "id": "3ae5f649",
   "metadata": {},
   "outputs": [],
   "source": []
  },
  {
   "cell_type": "code",
   "execution_count": null,
   "id": "25fcbb22",
   "metadata": {},
   "outputs": [],
   "source": []
  },
  {
   "cell_type": "code",
   "execution_count": null,
   "id": "c753ba5c",
   "metadata": {},
   "outputs": [],
   "source": []
  }
 ],
 "metadata": {
  "kernelspec": {
   "display_name": "Python 3 (ipykernel)",
   "language": "python",
   "name": "python3"
  },
  "language_info": {
   "codemirror_mode": {
    "name": "ipython",
    "version": 3
   },
   "file_extension": ".py",
   "mimetype": "text/x-python",
   "name": "python",
   "nbconvert_exporter": "python",
   "pygments_lexer": "ipython3",
   "version": "3.10.7"
  }
 },
 "nbformat": 4,
 "nbformat_minor": 5
}
