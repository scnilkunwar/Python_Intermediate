{
 "cells": [
  {
   "cell_type": "markdown",
   "id": "306662ce",
   "metadata": {},
   "source": [
    "# Functional programming\n",
    "Functional programming is a style of programming that (as the name suggests) is based around functions.  \n",
    "A key part of functional programming is higher-order functions.  \n",
    "Higher-order functions take other functions as arguments, or return them as results."
   ]
  },
  {
   "cell_type": "code",
   "execution_count": 1,
   "id": "373bd81e",
   "metadata": {},
   "outputs": [
    {
     "name": "stdout",
     "output_type": "stream",
     "text": [
      "16\n"
     ]
    }
   ],
   "source": [
    "def test(func, arg):\n",
    "  return func(func(arg))\n",
    "\n",
    "def mult(x):\n",
    "  return x * x\n",
    "\n",
    "print(test(mult, 2))"
   ]
  },
  {
   "cell_type": "markdown",
   "id": "b5ad71e1",
   "metadata": {},
   "source": [
    "# Pure Functions\n",
    "Functional programming seeks to use pure functions.  \n",
    "Pure functions have no side effects, and return a value that depends only on their arguments.  \n",
    "This is how functions in math work: for example, the cos(x) will, for the same value of x, always return the same result."
   ]
  },
  {
   "cell_type": "code",
   "execution_count": 4,
   "id": "19c4d674",
   "metadata": {},
   "outputs": [
    {
     "name": "stdout",
     "output_type": "stream",
     "text": [
      "1.1428571428571428\n"
     ]
    }
   ],
   "source": [
    "def pure_function(x, y):\n",
    "  temp = x + 2*y\n",
    "  return temp / (2*x + y)\n",
    "print(pure_function(2, 3))"
   ]
  },
  {
   "cell_type": "code",
   "execution_count": 5,
   "id": "951092b5",
   "metadata": {},
   "outputs": [
    {
     "name": "stdout",
     "output_type": "stream",
     "text": [
      "6\n"
     ]
    }
   ],
   "source": [
    "def func(x):\n",
    "  y = x**2\n",
    "  z = x + y\n",
    "  return z\n",
    "\n",
    "print(func(2))"
   ]
  },
  {
   "cell_type": "markdown",
   "id": "2e41ebbd",
   "metadata": {},
   "source": [
    "# Lambdas\n",
    "Creating a function normally (using def) assigns it to a variable with its name automatically.\n",
    "Python allows us to create functions on-the-fly, provided that they are created using lambda syntax.\n",
    "\n",
    "This approach is most commonly used when passing a simple function as an argument to another function."
   ]
  },
  {
   "cell_type": "code",
   "execution_count": 14,
   "id": "77a99644",
   "metadata": {},
   "outputs": [
    {
     "name": "stdout",
     "output_type": "stream",
     "text": [
      "<function <lambda> at 0x0000019703438940> 3\n"
     ]
    }
   ],
   "source": [
    "# syntax \n",
    "# lambda <input var> : <exspression>, input\n",
    "\n",
    "print((lambda  : x**2, (3))"
   ]
  },
  {
   "cell_type": "code",
   "execution_count": 6,
   "id": "4ce09e2a",
   "metadata": {},
   "outputs": [
    {
     "name": "stdout",
     "output_type": "stream",
     "text": [
      "50\n"
     ]
    }
   ],
   "source": [
    "\n",
    "def my_func(f, arg):\n",
    "  return f(arg)\n",
    "\n",
    "a = my_func(lambda x: 2*x*x, 5)\n",
    "print(a)"
   ]
  },
  {
   "cell_type": "code",
   "execution_count": 1,
   "id": "4ad9bc75",
   "metadata": {},
   "outputs": [
    {
     "name": "stdout",
     "output_type": "stream",
     "text": [
      "40\n",
      "40\n"
     ]
    }
   ],
   "source": [
    "#named function\n",
    "def polynomial(x):\n",
    "    return x**2 + 5*x + 4\n",
    "print(polynomial(4))\n",
    "\n",
    "#lambda\n",
    "print((lambda x: x**2 + 5*x + 4) (4))"
   ]
  },
  {
   "cell_type": "code",
   "execution_count": null,
   "id": "a19dfc50",
   "metadata": {},
   "outputs": [],
   "source": []
  }
 ],
 "metadata": {
  "kernelspec": {
   "display_name": "Python 3 (ipykernel)",
   "language": "python",
   "name": "python3"
  },
  "language_info": {
   "codemirror_mode": {
    "name": "ipython",
    "version": 3
   },
   "file_extension": ".py",
   "mimetype": "text/x-python",
   "name": "python",
   "nbconvert_exporter": "python",
   "pygments_lexer": "ipython3",
   "version": "3.10.7"
  }
 },
 "nbformat": 4,
 "nbformat_minor": 5
}
