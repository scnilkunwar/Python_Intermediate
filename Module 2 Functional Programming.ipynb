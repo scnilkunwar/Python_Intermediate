{
 "cells": [
  {
   "cell_type": "markdown",
   "id": "306662ce",
   "metadata": {},
   "source": [
    "# Functional programming\n",
    "Functional programming is a style of programming that (as the name suggests) is based around functions.  \n",
    "A key part of functional programming is higher-order functions.  \n",
    "Higher-order functions take other functions as arguments, or return them as results."
   ]
  },
  {
   "cell_type": "code",
   "execution_count": 1,
   "id": "373bd81e",
   "metadata": {},
   "outputs": [
    {
     "name": "stdout",
     "output_type": "stream",
     "text": [
      "16\n"
     ]
    }
   ],
   "source": [
    "def test(func, arg):\n",
    "  return func(func(arg))\n",
    "\n",
    "def mult(x):\n",
    "  return x * x\n",
    "\n",
    "print(test(mult, 2))"
   ]
  },
  {
   "cell_type": "markdown",
   "id": "b5ad71e1",
   "metadata": {},
   "source": [
    "# Pure Functions\n",
    "Functional programming seeks to use pure functions.  \n",
    "Pure functions have no side effects, and return a value that depends only on their arguments.  \n",
    "This is how functions in math work: for example, the cos(x) will, for the same value of x, always return the same result."
   ]
  },
  {
   "cell_type": "code",
   "execution_count": 4,
   "id": "19c4d674",
   "metadata": {},
   "outputs": [
    {
     "name": "stdout",
     "output_type": "stream",
     "text": [
      "1.1428571428571428\n"
     ]
    }
   ],
   "source": [
    "def pure_function(x, y):\n",
    "  temp = x + 2*y\n",
    "  return temp / (2*x + y)\n",
    "print(pure_function(2, 3))"
   ]
  },
  {
   "cell_type": "code",
   "execution_count": 5,
   "id": "951092b5",
   "metadata": {},
   "outputs": [
    {
     "name": "stdout",
     "output_type": "stream",
     "text": [
      "6\n"
     ]
    }
   ],
   "source": [
    "def func(x):\n",
    "  y = x**2\n",
    "  z = x + y\n",
    "  return z\n",
    "\n",
    "print(func(2))"
   ]
  },
  {
   "cell_type": "markdown",
   "id": "2e41ebbd",
   "metadata": {},
   "source": [
    "# Lambdas\n",
    "Creating a function normally (using def) assigns it to a variable with its name automatically.\n",
    "Python allows us to create functions on-the-fly, provided that they are created using lambda syntax.\n",
    "\n",
    "This approach is most commonly used when passing a simple function as an argument to another function."
   ]
  },
  {
   "cell_type": "code",
   "execution_count": 4,
   "id": "77a99644",
   "metadata": {},
   "outputs": [
    {
     "name": "stdout",
     "output_type": "stream",
     "text": [
      "9\n",
      "5\n"
     ]
    }
   ],
   "source": [
    "# syntax \n",
    "# lambda <input var> : <exspression>\n",
    "\n",
    "print((lambda x: x**2) (3))\n",
    "a = lambda x : x + 2\n",
    "print(a(3))"
   ]
  },
  {
   "cell_type": "code",
   "execution_count": 6,
   "id": "4ce09e2a",
   "metadata": {},
   "outputs": [
    {
     "name": "stdout",
     "output_type": "stream",
     "text": [
      "50\n"
     ]
    }
   ],
   "source": [
    "\n",
    "def my_func(f, arg):\n",
    "  return f(arg)\n",
    "\n",
    "a = my_func(lambda x: 2*x*x, 5)\n",
    "print(a)"
   ]
  },
  {
   "cell_type": "code",
   "execution_count": 1,
   "id": "4ad9bc75",
   "metadata": {},
   "outputs": [
    {
     "name": "stdout",
     "output_type": "stream",
     "text": [
      "40\n",
      "40\n"
     ]
    }
   ],
   "source": [
    "#named function\n",
    "def polynomial(x):\n",
    "    return x**2 + 5*x + 4\n",
    "print(polynomial(4))\n",
    "\n",
    "#lambda\n",
    "print((lambda x: x**2 + 5*x + 4) (4))"
   ]
  },
  {
   "cell_type": "markdown",
   "id": "68786662",
   "metadata": {},
   "source": [
    "# Map and filter\n",
    "The built-in functions **map** and **filter** are very useful higher-order functions that operate on **lists** (or similar objects called **iterables**).\n",
    "### map\n",
    "The function map takes a function and an iterable as arguments, and returns a new iterable with the function applied to each argument."
   ]
  },
  {
   "cell_type": "code",
   "execution_count": 6,
   "id": "2d782e84",
   "metadata": {},
   "outputs": [
    {
     "name": "stdout",
     "output_type": "stream",
     "text": [
      "[16, 27, 38, 49, 60]\n"
     ]
    }
   ],
   "source": [
    "def add_five(x):\n",
    "    return x + 5\n",
    "\n",
    "nums = [11, 22, 33, 44, 55]\n",
    "result = list(map(add_five, nums))\n",
    "print(result)"
   ]
  },
  {
   "cell_type": "code",
   "execution_count": 9,
   "id": "0bb9be14",
   "metadata": {},
   "outputs": [
    {
     "name": "stdout",
     "output_type": "stream",
     "text": [
      "[6, 7, 8, 9]\n"
     ]
    }
   ],
   "source": [
    "# using lambda\n",
    "\n",
    "nums = [1, 2, 3, 4]\n",
    "print(list(map(lambda x : x + 5, nums)))"
   ]
  },
  {
   "cell_type": "markdown",
   "id": "d200f771",
   "metadata": {},
   "source": [
    "### filter\n",
    "The function filter filters an iterable by leaving only the items that match a condition (also called a predicate)."
   ]
  },
  {
   "cell_type": "code",
   "execution_count": 11,
   "id": "b16b6d1a",
   "metadata": {},
   "outputs": [
    {
     "name": "stdout",
     "output_type": "stream",
     "text": [
      "[0, 2, 4, 6, 8]\n"
     ]
    }
   ],
   "source": [
    "nums = [x for x in range(10)]\n",
    "even = list(filter(lambda x : x % 2 == 0, nums))\n",
    "print(even)"
   ]
  },
  {
   "cell_type": "code",
   "execution_count": 40,
   "id": "b6678037",
   "metadata": {},
   "outputs": [
    {
     "name": "stdout",
     "output_type": "stream",
     "text": [
      "2\n"
     ]
    }
   ],
   "source": [
    "nums = {1, 2, 3, 4, 5, 6}\n",
    "nums = {0, 1, 2, 3} & nums\n",
    "nums = filter(lambda x: x > 1, nums)\n",
    "print(len(list(nums)))"
   ]
  },
  {
   "cell_type": "markdown",
   "id": "307518c3",
   "metadata": {},
   "source": [
    "# Generators\n",
    "Generators are a type of iterable, like lists or tuples.\n",
    "Unlike lists, they don't allow indexing with arbitrary indices, but they can still be iterated through with for loops.\n",
    "They can be created using functions and the yield statement."
   ]
  },
  {
   "cell_type": "code",
   "execution_count": 12,
   "id": "bbf5427b",
   "metadata": {},
   "outputs": [
    {
     "name": "stdout",
     "output_type": "stream",
     "text": [
      "5\n",
      "4\n",
      "3\n",
      "2\n",
      "1\n"
     ]
    }
   ],
   "source": [
    "def countdown():\n",
    "    i=5\n",
    "    while i > 0:\n",
    "        yield i\n",
    "        i -= 1\n",
    "\n",
    "for i in countdown():\n",
    "    print(i)"
   ]
  },
  {
   "cell_type": "markdown",
   "id": "39445cf0",
   "metadata": {},
   "source": [
    "# Problem\n",
    "Finding prime numbers is a common coding interview task.\n",
    "The given code defines a function **```isPrime(x)```**, which returns True if x is prime.  \n",
    "You need to create a generator function **```primeGenerator()```**, that will take two numbers as arguments, and use the **```isPrime()```** function to output the prime numbers in the given range (between the two arguments).\n",
    "\n",
    "**Sample Input**\n",
    "10  \n",
    "20\n",
    "\n",
    "**Sample Output**  \n",
    "[11, 13, 17, 19]"
   ]
  },
  {
   "cell_type": "markdown",
   "id": "040066d9",
   "metadata": {},
   "source": [
    "# Solution"
   ]
  },
  {
   "cell_type": "code",
   "execution_count": 13,
   "id": "0a74d0d1",
   "metadata": {},
   "outputs": [
    {
     "name": "stdout",
     "output_type": "stream",
     "text": [
      "1\n",
      "100\n",
      "[2, 3, 5, 7, 11, 13, 17, 19, 23, 29, 31, 37, 41, 43, 47, 53, 59, 61, 67, 71, 73, 79, 83, 89, 97]\n"
     ]
    }
   ],
   "source": [
    "def isPrime(x):\n",
    "    if x < 2:\n",
    "        return False\n",
    "    elif x == 2:\n",
    "        return True  \n",
    "    for n in range(2, x):\n",
    "        if x % n ==0:\n",
    "            return False\n",
    "    return True\n",
    "\n",
    "def primeGenerator(a, b):\n",
    "    for i in range(a, b + 1):\n",
    "        if isPrime(i):\n",
    "            yield i\n",
    "    \n",
    "f = int(input())\n",
    "t = int(input())\n",
    "\n",
    "print(list(primeGenerator(f, t)))"
   ]
  },
  {
   "cell_type": "code",
   "execution_count": 14,
   "id": "6bc5bafd",
   "metadata": {},
   "outputs": [
    {
     "name": "stdout",
     "output_type": "stream",
     "text": [
      "['s', 'sp', 'spa', 'spam']\n"
     ]
    }
   ],
   "source": [
    "def make_word():\n",
    "  word = \"\"\n",
    "  for ch in \"spam\":\n",
    "    word +=ch\n",
    "    yield word\n",
    "\n",
    "print(list(make_word()))"
   ]
  },
  {
   "cell_type": "markdown",
   "id": "6b7a5eda",
   "metadata": {},
   "source": [
    "# Recursion\n",
    "Recursion is a very important concept in functional programming.  \n",
    "The fundamental part of recursion is self-reference -- functions calling themselves. It is used to solve problems that can be broken up into easier sub-problems of the same type."
   ]
  },
  {
   "cell_type": "code",
   "execution_count": 25,
   "id": "b91b877d",
   "metadata": {},
   "outputs": [
    {
     "name": "stdout",
     "output_type": "stream",
     "text": [
      "120\n"
     ]
    }
   ],
   "source": [
    "def factorial(num):\n",
    "    if num == 1:\n",
    "        return 1\n",
    "    return num * factorial(num - 1)\n",
    "\n",
    "print(factorial(5))"
   ]
  },
  {
   "cell_type": "code",
   "execution_count": 27,
   "id": "beb72b80",
   "metadata": {},
   "outputs": [
    {
     "name": "stdout",
     "output_type": "stream",
     "text": [
      "42\n",
      "101010\n"
     ]
    }
   ],
   "source": [
    "#binayr to decimal\n",
    "\n",
    "def convert(num):\n",
    "   if num == 1:\n",
    "      return 1\n",
    "   return (num % 2 + 10 * convert(num // 2)) \n",
    "\n",
    "num = int(input())\n",
    "print(convert(num))"
   ]
  },
  {
   "cell_type": "code",
   "execution_count": 28,
   "id": "c0cd035d",
   "metadata": {},
   "outputs": [
    {
     "name": "stdout",
     "output_type": "stream",
     "text": [
      "5\n"
     ]
    }
   ],
   "source": [
    "def fib(x):\n",
    "  if x == 0 or x == 1:\n",
    "    return 1\n",
    "  else: \n",
    "    return fib(x-1) + fib(x-2)\n",
    "print(fib(4))"
   ]
  },
  {
   "cell_type": "code",
   "execution_count": 41,
   "id": "d8636002",
   "metadata": {},
   "outputs": [
    {
     "name": "stdout",
     "output_type": "stream",
     "text": [
      "8\n"
     ]
    }
   ],
   "source": [
    "def power(x, y):\n",
    "  if y == 0:\n",
    "    return 1\n",
    "  else:\n",
    "    return x * power(x, y-1)\n",
    "\n",
    "print(power(2, 3))"
   ]
  },
  {
   "cell_type": "markdown",
   "id": "3db8798c",
   "metadata": {},
   "source": [
    "# *args\n",
    "\n",
    "Python allows you to have functions with varying numbers of arguments.  \n",
    "Using *args as a function parameter enables you to pass an arbitrary number of arguments to that function.  \n",
    "The arguments are then accessible as the tuple args in the body of the function."
   ]
  },
  {
   "cell_type": "code",
   "execution_count": 30,
   "id": "8f62f40f",
   "metadata": {},
   "outputs": [
    {
     "name": "stdout",
     "output_type": "stream",
     "text": [
      "1\n",
      "(3, 5, 7)\n"
     ]
    }
   ],
   "source": [
    "def func(a, *args):\n",
    "    print(a)\n",
    "    print(args)\n",
    "    \n",
    "func(1, 3, 5, 7)"
   ]
  },
  {
   "cell_type": "markdown",
   "id": "212900f8",
   "metadata": {},
   "source": [
    "# **kwargs\n",
    "**kwargs (standing for keyword arguments) allows you to handle named arguments that you have not defined in advance.\n",
    "The keyword arguments return a dictionary in which the keys are the argument names, and the values are the argument values."
   ]
  },
  {
   "cell_type": "code",
   "execution_count": 39,
   "id": "a79a4184",
   "metadata": {},
   "outputs": [
    {
     "name": "stdout",
     "output_type": "stream",
     "text": [
      "1\n",
      "3\n",
      "(5, 7, 8, 9)\n",
      "{'x': 3, 'y': 9}\n"
     ]
    }
   ],
   "source": [
    "def func(a, b = 5, *args, **kwargs):\n",
    "    print(a)\n",
    "    print(b)\n",
    "    print(args)\n",
    "    print(kwargs)\n",
    "    \n",
    "func(1, 3, 5, 7, 8, 9, x = 3, y = 9)"
   ]
  },
  {
   "cell_type": "markdown",
   "id": "8c07f623",
   "metadata": {},
   "source": [
    "# Problem\n",
    "## Spelling Backwards\n",
    "Given a string as input, use recursion to output each letter of the strings in reverse order, on a new line.\n",
    "\n",
    "**Sample Input**  \n",
    "HELLO\n",
    "\n",
    "**Sample Output**  \n",
    "O\n",
    "\n",
    "L\n",
    "\n",
    "L\n",
    "\n",
    "E\n",
    "\n",
    "H"
   ]
  },
  {
   "cell_type": "markdown",
   "id": "7aada174",
   "metadata": {},
   "source": [
    "# Solution"
   ]
  },
  {
   "cell_type": "code",
   "execution_count": 2,
   "id": "5a89dfab",
   "metadata": {},
   "outputs": [
    {
     "name": "stdout",
     "output_type": "stream",
     "text": [
      "sunil\n",
      "l\n",
      "i\n",
      "n\n",
      "u\n",
      "s\n"
     ]
    }
   ],
   "source": [
    "def spell(txt):\n",
    "    print(txt[-1])\n",
    "    if len(txt) == 1:\n",
    "        return\n",
    "    spell(txt[:len(txt) - 1])\n",
    "txt = input()\n",
    "spell(txt)"
   ]
  },
  {
   "cell_type": "code",
   "execution_count": null,
   "id": "65a49506",
   "metadata": {},
   "outputs": [],
   "source": []
  },
  {
   "cell_type": "code",
   "execution_count": null,
   "id": "44be4c27",
   "metadata": {},
   "outputs": [],
   "source": []
  }
 ],
 "metadata": {
  "kernelspec": {
   "display_name": "Python 3 (ipykernel)",
   "language": "python",
   "name": "python3"
  },
  "language_info": {
   "codemirror_mode": {
    "name": "ipython",
    "version": 3
   },
   "file_extension": ".py",
   "mimetype": "text/x-python",
   "name": "python",
   "nbconvert_exporter": "python",
   "pygments_lexer": "ipython3",
   "version": "3.10.7"
  }
 },
 "nbformat": 4,
 "nbformat_minor": 5
}
